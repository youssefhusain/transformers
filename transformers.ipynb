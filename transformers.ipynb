{
 "cells": [
  {
   "cell_type": "code",
   "execution_count": null,
   "metadata": {
    "id": "MvU7kyGnobhQ"
   },
   "outputs": [],
   "source": [
    "from transformers import pipeline"
   ]
  },
  {
   "cell_type": "code",
   "execution_count": null,
   "metadata": {
    "colab": {
     "base_uri": "https://localhost:8080/",
     "height": 339,
     "referenced_widgets": [
      "64694288be0b45bbab7330ef77033a4d",
      "5b1de7575f614839b844b7f06b30bd6c",
      "0866df3a9a6e4f0db7c4ad0f78368137",
      "7a87a9f178ad45ef91e2c1b5e5e3f34c",
      "33ba3ae4703f4c7b9240f8fb47218428",
      "fac4bd5fb0924865b9973f8df1c0d3a1",
      "0c2f041882dd40bda1d8e20dcc68c853",
      "c517ebf4fda14b5d8d12c06eb5f5ab25",
      "d5bc3b3826d94edabb68d2bbb23284d9",
      "637795e145af492aaa90ccb1e4d8ab1a",
      "5e7de42cbce944ff8359a05908bde758",
      "3f3ea4aef781417da5773066511a1e2c",
      "e888435eb13d45fca14bf28a716760aa",
      "5861067655e14eb095e602248f666b1e",
      "0aefb83d870c4c6c8ff69e7eeb050b6d",
      "046269d2abd14aebb8986e3c04d0f876",
      "75c12f4cff71440792e633557922d402",
      "62cee25311774f398e6e5a3fc01ec366",
      "c9baeeb0f0ad435380320724b50ae741",
      "e39e30af40134f839dd4f7968c7f5ace",
      "3fac597ba59f4eddb2722304cc30fdd8",
      "5372460dc5104ea09c0050ab266e9ddc",
      "d9a6fb90ab204fe2918a45bd805f92d5",
      "23f4b14e9de54351b6a17a69bd741178",
      "67355000ab2748e6a42125dc970cfd57",
      "907b5e9c325646fbbfda57a563243fdb",
      "56c69b2bda71487fbba103fae1ef7de4",
      "e4deb60aa50549b98d0e72df6302773c",
      "6137238c13a84d1cb97b1058804d7c58",
      "c95e8b6ba302471b811fe89db380a55d",
      "ec3c6e8b08584f7a921e62afa3dfc4c9",
      "2220323b67d34fbc89c5cbe1760fa037",
      "689ae6b2248b469ab49814bf3a96e776",
      "8e7e5f440b9f4daa8a079333c3ae7c69",
      "1d2c74a925a24f70bc8e8c188b69c906",
      "205979f9f4c347e6b6789e59ae53122f",
      "6c4f12037f0e417a8b70b3bf9c0ce8b2",
      "f7aa75e1d0bd4a758f583be4ca2433c1",
      "92033b07c9e64bbebcdb06110e84fb3a",
      "6ac6108fb07e47ee9763e279e14895de",
      "bf461d5ff0f64e2da54daa029fee1982",
      "23d60a09d7be4dac80f5389c66305bff",
      "244499ac61384c2e825f159e71d7ee96",
      "734ef7bf1d9546c29b9b5f26fba51e69"
     ]
    },
    "id": "_zVEPU64or2X",
    "outputId": "fb8646bc-7441-49c8-cf87-8c28a247f75d"
   },
   "outputs": [],
   "source": [
    "classifier = pipeline(\"sentiment-analysis\")\n",
    "result = classifier(\"I love using transformers!\")\n",
    "print(result)"
   ]
  },
  {
   "cell_type": "code",
   "execution_count": null,
   "metadata": {
    "colab": {
     "base_uri": "https://localhost:8080/",
     "height": 194,
     "referenced_widgets": [
      "957866b416b74004b20aa917d00f01a3",
      "787bb1103f3a4e10ae83606e4ec0f9a2",
      "344094be790f491b8a57b3c17627df5b",
      "71e667124ef749838f4f7481b08d751a",
      "5990443c6def4a31bce1f6e7477863d5",
      "2c98f8c2d267421d9f1476e22771c38f",
      "722b32f8c0394b009240661e19847def",
      "e39734421037452fa810836586398f82",
      "7d3b64b7b1854da786f6d8560706cb3d",
      "0fbf2f1a6d3549778228e87d07230bdc",
      "099c1005e86b40a3a33c6c7f5613256e",
      "5f33fbadb13046b8a505d52ed89d483d",
      "1efe561fa8ce4cca9038dc94fa013883",
      "0ee80afc3935416183937d4fec6d462f",
      "8d5be01896974b43980059571726f8a0",
      "07b635d437e1416bab81bdd029e16901",
      "7784c72429904553851c282beb9fd5cf",
      "3408992ee18d40b9a8900bb3843ac4fe",
      "6da20395901f4a6392543276377eb17a",
      "866e8594a84f4d8c99384f7788b26983",
      "bb865550105a425e918bc37574e8958d",
      "c5a22d8f979f432f8da0343db9018b31",
      "7d9af7bec9504f7689e7e3766adf8a86",
      "38b2a8d4162a4a1daae997a863b16757",
      "2c1800585170406f9d6982112b4fb86f",
      "7190163145bf4c908ca6b6761ecc2fc7",
      "ae0e453cb31e44b5b9b048683d4edefb",
      "b3e3298fbe454b2098e4e629958fd724",
      "a5281bdeffd1420c9c4685d639a3bc1f",
      "9ab6c571ff8d4e289b9d3008b91ec1dc",
      "70eca0a6aca64561b500ca8beb2bec34",
      "a49c8d634aa84401ad17c4c609a2d942",
      "182d87a60e0e4bb9a40443a11cb7928f",
      "d25e75236aa44617bf4218133792223e",
      "815dec59de1747c893fc47aed32a75f7",
      "b080a8a269544a539f1941549df72556",
      "24e65d35329a4d8f981aab7adf22db43",
      "8596efa6c8804c1396c5657de26a5f72",
      "2fef94d04f5749a194280c973342a2aa",
      "07b5ea3e655b49aa87aa6449ab941f8e",
      "3105905ac31942c2a9db0e0b193259e7",
      "bf080c3bb7424dfb8e27b10857a7f0d6",
      "fe9fd2a1e2e441eeb83e8135940c93c2",
      "0f4495b5f97f4a96b4170f136afd16f3",
      "02a6fc787a444c6ca1aab48f359d20c7",
      "fa077333f97c44fbb4a4919614fae15e",
      "8d9a67d02ea2460d90a62ca2cdb2587b",
      "07da4fd7b07349f18839b2d4bd04e807",
      "a23e6bcb28e34cbaa6dab833cd61291f",
      "e9845939038b473ca695923a64e478cf",
      "d2a09f57e3704278b766cdd90ff174e4",
      "1b746579f1eb46f4bb0958cfa0c3e8a3",
      "87f66f3db7774ec9b3c189ded11360df",
      "a9c217d07f4a43149c43533c0c1a3bcc",
      "df46f917680546509e108a0d911ada79"
     ]
    },
    "id": "4Ntkoqg0pUXJ",
    "outputId": "8f49aa02-08a9-423f-fc7e-895c2d069faa"
   },
   "outputs": [],
   "source": [
    "from transformers import pipeline, AutoTokenizer\n",
    "model_name = \"nlptown/bert-base-multilingual-uncased-sentiment\"\n",
    "tokenizer = AutoTokenizer.from_pretrained(model_name)\n",
    "classifier = pipeline(\"sentiment-analysis\", model=model_name, tokenizer=tokenizer)\n"
   ]
  },
  {
   "cell_type": "code",
   "execution_count": null,
   "metadata": {
    "colab": {
     "base_uri": "https://localhost:8080/"
    },
    "id": "B4MzwAZQq1W7",
    "outputId": "1d698c90-037d-4422-88c0-3808d0acce5a"
   },
   "outputs": [],
   "source": [
    "result = classifier(\"I love this product!\")\n",
    "print(result)"
   ]
  },
  {
   "cell_type": "code",
   "execution_count": null,
   "metadata": {
    "colab": {
     "base_uri": "https://localhost:8080/",
     "height": 177,
     "referenced_widgets": [
      "8484bba4585342a18c8e89cea45f1091",
      "17fb0716d3334dc782ffcfaaaa6711cf",
      "56be7c524cbe4e1ebeca48d68a20724d",
      "5a93a25462cb4a0f8bb98ea1174a9b83",
      "307c26a8dcbd467987443fa66c9708c3",
      "6903b05b065c43dfa7ea5fad30c6fd52",
      "8eb45786c41844a88887ba44c685d617",
      "94ac8aa9a02f47238a76c25cbface022",
      "cd95cdffcb8b47e7be8dc09d583f6744",
      "84a75c45945a4136a6a7863863c11d80",
      "7a1128b3c48f453f9bc4cb8f0f9f77d8",
      "06cd8004e75341f681951be23f9840ba",
      "127405e609484952ac7360494ca42995",
      "5151a7ebd4eb4b8cbfa805c5cd42ae83",
      "77170ee994514a0086364f963cf341e7",
      "1beede326f504187926665987a4f2c38",
      "538ca344f3d847f8be4a6301442b7909",
      "93c0543ceab64bd48e8cb7fdfc850cf5",
      "b86eb3ef10914b2aa207c7a701a2ffcc",
      "d6a6d2bc7c36443d8d4616da6a35ca0e",
      "c70ab284ebe4469b8d720f5ec4229d7b",
      "5858fb529bc248c3bfcd5e553d9899fe",
      "4203aea92d2b4794b16c15e8283bc513",
      "2e56c2cd3f2045e7a9fb61d04851039a",
      "92b02cc53de042a384dbe076fa562331",
      "eace3752c96840c58a843dc8849ce953",
      "898452d3680c47959377c411e50a6c9d",
      "f1a3e4ff2d014778b42d7b981e67ccbc",
      "64f90c430a964ae199dcfbdc5bc526df",
      "b794f9dfe3b742efbe1b775dc0ef45fe",
      "d568545c881541fe90bea7a5ba937e32",
      "91b28dbcad4544e19d3d9ddb11836079",
      "57df5e019f6c4651801f039df2028eda",
      "b44e23b720c24f08af85bc2f59ad0b07",
      "02580d2f8779492ba28709d591e13b92",
      "2f05a397f486405cb9eff18fae981d8d",
      "3177957a5d4f43a8b2ca2b9aeccbe3e0",
      "a557747a998a4bda8d3eb335eb8b76c4",
      "a3ef981741e04eec8992daa3b33c9444",
      "c2d4184e3652498bb11eff50bf93e156",
      "0da32d7dfc7c486e9c1aab0c4431bb76",
      "05d93efd768e4f27af95429a1ca637af",
      "c9fc77cd3d5b4019b42dccd4e450fded",
      "021399e4a6434921869ca95881911bb5",
      "2a874e053fe140029603621417bcad27",
      "ade4091fd1854b5984ce78af708c73ff",
      "4d51e65d47f147cf9681c8eaf2bf1b0f",
      "041172ba00fb49da9b342ac269b31d93",
      "24babd7ffde44048a279aecaa0515216",
      "767bae9803434c99b3b34932eecc80b3",
      "3e636bf2e1004bb7b051b8e23621735b",
      "bd605fdd59f54c7bb1433c1c0ef93411",
      "08ddac0b1be04db4b99eb8b91588cef6",
      "d8a4403deb844898bd1298ad84006d54",
      "e75a578f19ef4cb7b9d6f53c48df73fb"
     ]
    },
    "id": "CSdGAgl-q527",
    "outputId": "764fd8e3-0665-4af6-d5b9-2005f4d9a37d"
   },
   "outputs": [],
   "source": [
    "model_name = \"cardiffnlp/twitter-roberta-base-sentiment\"\n",
    "tokenizer = AutoTokenizer.from_pretrained(model_name)\n",
    "model = AutoModelForSequenceClassification.from_pretrained(model_name)\n",
    "\n"
   ]
  },
  {
   "cell_type": "code",
   "execution_count": null,
   "metadata": {
    "colab": {
     "base_uri": "https://localhost:8080/"
    },
    "id": "6NpCcmWT11x4",
    "outputId": "c4727682-1b6e-478b-e5ea-6668b5c9a766"
   },
   "outputs": [],
   "source": [
    "classifier = pipeline(\"sentiment-analysis\", model=model, tokenizer=tokenizer)"
   ]
  },
  {
   "cell_type": "code",
   "execution_count": null,
   "metadata": {
    "colab": {
     "base_uri": "https://localhost:8080/",
     "height": 34
    },
    "id": "j_5vg1vU1qm-",
    "outputId": "1a28e8d2-b014-4e4a-bf59-3e8c2aea5ff9"
   },
   "outputs": [],
   "source": [
    "\n",
    "print(classifier(\"This is amazing!\"))"
   ]
  },
  {
   "cell_type": "code",
   "execution_count": null,
   "metadata": {
    "colab": {
     "base_uri": "https://localhost:8080/",
     "height": 226,
     "referenced_widgets": [
      "cad07a09fb9243a2b3aaa81f183e4de1",
      "43c20a4855a54f6190a4aee6bd46b4d3",
      "cbc0816bcfa243afab47387e2c682ff0",
      "efea817f262849b0ab9b6687c9d98f91",
      "059af29b5187473a8fff98c2cabddc19",
      "36f186c73a6a47338f678eb85843f269",
      "bac5f21a8f1f46d3873c515cbe86293a",
      "307518eee50249e596195f9a20eb07fc",
      "47783443a73b427cbb6f91e03cc6248c",
      "91b54344b38b4cc180e0648456b2da8d",
      "7963d322e115460290fbb34576aa0e26",
      "bb1d3ca59f7b42f68b61b118ee0ee456",
      "ef1874b132c04d3681506ef7d4560c23",
      "0ad009e9d25142c7b226c267f91fe2fb",
      "b40f2bb96cd944be9594a5eb7d0b4862",
      "2957e5839e3d46cab6f209a4a0c959a0",
      "3cc6b171d5bf410d8610510b59cd0721",
      "7d66dd0e25cd4a379ed27b6b0bce6301",
      "d28d31b7d2484b95999d0cbbbb5f63b9",
      "1d52591d43444f04a03ddaacb58a250e",
      "0ed4b516af6e455ebf05dc937a330fe8",
      "29acbf4f1c8044fd84d56e76b7a6abe0",
      "266b272a2da448c08507d05052331753",
      "be78c53bde2548a789b58fd14e03fa63",
      "d6ab430f94c646948bd0f209ee5ee346",
      "09adfc526a134986a58e8d9d2858ddc5",
      "aa09b768aa654e018de0dc929bea48ac",
      "b2a131ae44124eaa8bdc58bfeb6458e8",
      "fb632e5847a045e8983d9ee1a9a8b169",
      "3776d9e6b9c140c99d756d8f0a7c7e9c",
      "db68f39cfe7946aabd2e05c5b1eaa1a9",
      "c946b66652b4439c855e2a36c355db5f",
      "4b2365ba051d4452ac1cd442e318ae89",
      "14b9ffa35c7f4e3ebf02c813350c79a2",
      "b40879cb1a684be29103a8d9654cbd57",
      "b5a3f95e84cf436587fd789a6ae3e680",
      "44164dd897e4486bbc6703425db0e9c7",
      "8174181b40924bd1bd9dfcea6f8888aa",
      "2f19e0c76eae4a368b7c749857ae7148",
      "47c329f15dbe4245bc86cec7b991143d",
      "2da61e1904334dec9ad75a05aee1fbc7",
      "edf7a022eb674101b03d61f50aa44779",
      "0954c2329b5648cba3d3369b87fcc7da",
      "d4be18895b3c48eaa2e1c2d22d70ae95",
      "52c8cc722fae4c9e94b78a0d43291c8b",
      "84b21807341449f88f1cf915ed5a08db",
      "755dc23dc4314352b65cdc4f20e05766",
      "ecb9c9f4fffc400e8074ec74bb1382f4",
      "98566bda2dcf41c390d4720d8c8459cc",
      "6b5663971e4641928a0d9568571ef4b4",
      "7c1da4ae1baf4de5a9c447bf35052fc7",
      "2bffd71ca9624cf6bd7b797a68268b9e",
      "82251e02aa444cfb811de8837bdb5c17",
      "f1785b9fd7f4456bb2f43b08d208ab31",
      "d129c96ab12a49f8a68b8736e50a521a",
      "21e30e536f3f492eb13c7f7c71e91f75",
      "017fc527c29740bdae9b164354292204",
      "98b6a13b04e4425b816ac04a0b7a1135",
      "5a3fcd5c087f4b2484a012a199cba0af",
      "3d904066444b415a8020de46f0e12b1c",
      "7bbb7aa85aed4d3e88aa43cf3cea94c0",
      "2d6d7643b171472fb256b7fffa7db6e6",
      "5b63442960a34ed49fdfdf2ecd12b087",
      "fbeb3e1b0350442cbaf973b736ec9ccc",
      "78695eaf343b4ba3abe2e90f01c2ba1b",
      "60d0be16e9ee4fc987216c314ff7cfb1"
     ]
    },
    "id": "sL-XBM-d1tlS",
    "outputId": "5d38a0dc-0290-4a0a-c5e8-bfac6e55804a"
   },
   "outputs": [],
   "source": [
    "from transformers import pipeline\n",
    "\n",
    "classifier = pipeline(\"sentiment-analysis\", model=\"CAMeL-Lab/bert-base-arabic-camelbert-da-sentiment\")\n",
    "\n"
   ]
  },
  {
   "cell_type": "code",
   "execution_count": null,
   "metadata": {
    "colab": {
     "base_uri": "https://localhost:8080/",
     "height": 34
    },
    "id": "ZTb7pQjE18iE",
    "outputId": "73df41b9-6e1c-4ebe-ccb1-3656f26f1827"
   },
   "outputs": [],
   "source": [
    "print(classifier(\"هذا المنتج رائع جدًا\"))"
   ]
  },
  {
   "cell_type": "code",
   "execution_count": null,
   "metadata": {
    "colab": {
     "base_uri": "https://localhost:8080/",
     "height": 162,
     "referenced_widgets": [
      "6255622558f34aa2a53b3a45deebfae9",
      "6d6370cab04f42d5b0892ff693e95151",
      "c5632853d2014a5eb30ee5f83d70c1cb",
      "0669e1b4199641b5966d38d808f306ed",
      "484cf93c6c234da7a953159969d4d692",
      "4c22ad43cd31430989ab29269b57f698",
      "9ce741b7b413429b9cf12640ec73ef19",
      "152fa5af67124479ac56053a325ed3d7",
      "b0041489e3ae4681a123f6d648cabb44",
      "3d7e84e68fd54f43a915a7c673c3ab9b",
      "da2c2fa4550a4af9a57ae50e6510e217",
      "ca240bab7eba48e68f0af13fbccff8eb",
      "eb7c07e11a624390a26f4237b50067bf",
      "e4b1c4fcff7b47cd99d43d683dbaec8a",
      "a48be0c40dee420a86296d85201ae0cd",
      "4cd97ad2868e45f19891ea3e4479c9cc",
      "ccd23dfc2ce44d7c8670f9c7a018a1da",
      "70dc456babff4d5ba59307f44dbdc5cd",
      "e9abff0774ae40d491e4b432abf910a9",
      "56251ebf90b04cdeba148fc279886c98",
      "997198e3e1c647868375f8b46973e698",
      "e56bfb41e28d49a5b445f1e232a2a750",
      "bcb30c399de84f95a4090b5576f936d9",
      "70e38ca04a86462eb423d391d930a803",
      "21615e3d88e946bea10240385cc08ad2",
      "bf9ce81fe6ff4a7ca4ad9756683a7093",
      "f502a44312784772ba7afc29ea77a63d",
      "4f7f559eaf364158bd72545b6158742e",
      "a51fee8da909472583a1a1d7feb42612",
      "f18d76b8827545039da49cacc19c6b0e",
      "1814e94b8a8046a3945dd98f4aaef3c0",
      "3734c17b447f43878d17cfe726366a51",
      "a9206413cea34b9a82462084f0e5a1cd",
      "6312067392bc4cf68dbd55a6ee338610",
      "e42a0f449c0c4706ad18a54fe6462976",
      "d85e62c69ace4097b99eca1e4d274b5a",
      "eca03e7e8aac4e71b9535b4cbba4010d",
      "c940ec2654424a1c861872b4c55d83f5",
      "e312b1c81c85472ea2cb9a8a5aaf3c9e",
      "5341b2abb3fa42bba839b3a77793ed3c",
      "6a89f83b65a5439c8804564fce48b0e0",
      "a679e105b93d41ae8816448327b81aea",
      "a2432ae164594456af15de385e57e12e",
      "05dff82714c440f18fe088db155391fe"
     ]
    },
    "id": "GjCzvP7s191I",
    "outputId": "dc1f9e50-95fd-4821-e77c-208e2f46545a"
   },
   "outputs": [],
   "source": [
    "from transformers import pipeline\n",
    "\n",
    "classifier = pipeline(\"sentiment-analysis\", model=\"distilbert-base-uncased-finetuned-sst-2-english\")\n",
    "\n"
   ]
  },
  {
   "cell_type": "code",
   "execution_count": null,
   "metadata": {
    "colab": {
     "base_uri": "https://localhost:8080/"
    },
    "id": "KaF9fl2L2DJY",
    "outputId": "d44be40d-8276-447a-d28f-6853cb4a0b1e"
   },
   "outputs": [],
   "source": [
    "print(classifier(\"I love programming!\"))"
   ]
  },
  {
   "cell_type": "code",
   "execution_count": null,
   "metadata": {
    "id": "U3mr3xrf2EBe"
   },
   "outputs": [],
   "source": [
    "from PIL import Image\n",
    "import pytesseract\n",
    "\n",
    "\n",
    "pytesseract.pytesseract.tesseract_cmd = r'C:\\Program Files\\Tesseract-OCR\\tesseract.exe'\n",
    "\n",
    "\n",
    "image = Image.open('example.png')\n",
    "\n",
    "\n",
    "text = pytesseract.image_to_string(image, lang='eng') \n",
    "\n"
   ]
  },
  {
   "cell_type": "code",
   "execution_count": null,
   "metadata": {
    "id": "eu6zKw_A7gPz"
   },
   "outputs": [],
   "source": [
    "\n",
    "print(\"text : \")\n",
    "print(text)"
   ]
  }
 ],
 "metadata": {
  "colab": {
   "provenance": []
  },
  "kernelspec": {
   "display_name": "Python 3",
   "name": "python3"
  },
  "language_info": {
   "name": "python"
  }
 },
 "nbformat": 4,
 "nbformat_minor": 0
}
